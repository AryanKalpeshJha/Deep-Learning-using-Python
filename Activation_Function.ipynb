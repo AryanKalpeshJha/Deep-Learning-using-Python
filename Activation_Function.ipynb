{
  "nbformat": 4,
  "nbformat_minor": 0,
  "metadata": {
    "colab": {
      "provenance": []
    },
    "kernelspec": {
      "name": "python3",
      "display_name": "Python 3"
    },
    "language_info": {
      "name": "python"
    }
  },
  "cells": [
    {
      "cell_type": "markdown",
      "source": [
        "Name: Aryan Jha\n",
        "\n",
        "Course: MBA TECH AI\n",
        "\n",
        "Topic: Activation Function"
      ],
      "metadata": {
        "id": "GgO4veLvzsCL"
      }
    },
    {
      "cell_type": "code",
      "execution_count": null,
      "metadata": {
        "id": "B6eihg8Ds_I5"
      },
      "outputs": [],
      "source": [
        "import numpy as np\n",
        "import matplotlib.pyplot as plt\n",
        "import math"
      ]
    },
    {
      "cell_type": "markdown",
      "source": [
        "Linear function and its Derivative"
      ],
      "metadata": {
        "id": "EGNEaAMVzClk"
      }
    },
    {
      "cell_type": "code",
      "source": [
        "def lin_fun(a,x,c):\n",
        "  eq = a*x + c\n",
        "  return eq"
      ],
      "metadata": {
        "id": "GxaP0x3TzKqW"
      },
      "execution_count": null,
      "outputs": []
    },
    {
      "cell_type": "code",
      "source": [
        "def derv_lin_fun(a,x,c):\n",
        "  return a"
      ],
      "metadata": {
        "id": "tul6ulzyzZC7"
      },
      "execution_count": null,
      "outputs": []
    },
    {
      "cell_type": "code",
      "source": [
        "lin_vals = [lin_fun(2,i,5) for i in np.arange(0,10,1)]\n",
        "print(lin_vals)"
      ],
      "metadata": {
        "id": "BcwSajreInBF",
        "colab": {
          "base_uri": "https://localhost:8080/"
        },
        "outputId": "ce48c5f1-0053-4c36-cfa5-ad1e90e6d349"
      },
      "execution_count": null,
      "outputs": [
        {
          "output_type": "stream",
          "name": "stdout",
          "text": [
            "[5, 7, 9, 11, 13, 15, 17, 19, 21, 23]\n"
          ]
        }
      ]
    },
    {
      "cell_type": "code",
      "source": [
        "derv_lin_vals = [derv_lin_fun(2,i,5) for i in np.arange(0,10,1)]\n",
        "print(derv_lin_vals)"
      ],
      "metadata": {
        "colab": {
          "base_uri": "https://localhost:8080/"
        },
        "id": "XdJuxrxAz1Wf",
        "outputId": "01d31464-4eb5-4a5b-c6f1-4a9f2989c28d"
      },
      "execution_count": null,
      "outputs": [
        {
          "output_type": "stream",
          "name": "stdout",
          "text": [
            "[2, 2, 2, 2, 2, 2, 2, 2, 2, 2]\n"
          ]
        }
      ]
    },
    {
      "cell_type": "code",
      "source": [
        "f = plt.figure()\n",
        "f.set_figwidth(5)\n",
        "f.set_figheight(5)\n",
        "plt.plot(lin_vals)\n",
        "plt.plot(derv_lin_vals)"
      ],
      "metadata": {
        "colab": {
          "base_uri": "https://localhost:8080/",
          "height": 462
        },
        "id": "3q87-JrL2YSm",
        "outputId": "4ff26512-f010-4025-9809-d37adcdb0817"
      },
      "execution_count": null,
      "outputs": [
        {
          "output_type": "execute_result",
          "data": {
            "text/plain": [
              "[<matplotlib.lines.Line2D at 0x7ec16f3d64d0>]"
            ]
          },
          "metadata": {},
          "execution_count": 83
        },
        {
          "output_type": "display_data",
          "data": {
            "text/plain": [
              "<Figure size 500x500 with 1 Axes>"
            ],
            "image/png": "[encoded data removed]"
          },
          "metadata": {}
        }
      ]
    },
    {
      "cell_type": "markdown",
      "source": [
        "Sigmoid function and its Dervative"
      ],
      "metadata": {
        "id": "1NPLbdbBy8g7"
      }
    },
    {
      "cell_type": "code",
      "source": [
        "def sgmd(x):\n",
        "  eq = 1/(1+(math.e)**(-x))\n",
        "  return eq"
      ],
      "metadata": {
        "id": "oZcqoZKdDCt6"
      },
      "execution_count": null,
      "outputs": []
    },
    {
      "cell_type": "code",
      "source": [
        "def derv_sgmd(fx):\n",
        "  eq = fx*(1-fx)\n",
        "  return eq"
      ],
      "metadata": {
        "id": "4ce8Al7JFEsl"
      },
      "execution_count": null,
      "outputs": []
    },
    {
      "cell_type": "code",
      "source": [
        "sgmd_vals = [sgmd(i) for i in np.arange(0,10,1)]\n",
        "print(sgmd_vals)"
      ],
      "metadata": {
        "colab": {
          "base_uri": "https://localhost:8080/"
        },
        "id": "C7P9HOHbFj4Y",
        "outputId": "7819d7b9-aa55-4974-ded0-1cd84ffbcc59"
      },
      "execution_count": null,
      "outputs": [
        {
          "output_type": "stream",
          "name": "stdout",
          "text": [
            "[0.5, 0.7310585786300049, 0.8807970779778823, 0.9525741268224331, 0.9820137900379085, 0.9933071490757153, 0.9975273768433653, 0.9990889488055994, 0.9996646498695336, 0.9998766054240137]\n"
          ]
        }
      ]
    },
    {
      "cell_type": "code",
      "source": [
        "derv_sgmd_vals = [derv_sgmd(i) for i in sgmd_vals]\n",
        "print(derv_sgmd_vals)"
      ],
      "metadata": {
        "colab": {
          "base_uri": "https://localhost:8080/"
        },
        "id": "3_9DkjtrF9r_",
        "outputId": "875a2001-01bc-4282-a70d-bb2d29483d9c"
      },
      "execution_count": null,
      "outputs": [
        {
          "output_type": "stream",
          "name": "stdout",
          "text": [
            "[0.25, 0.19661193324148185, 0.10499358540350662, 0.0451766597309122, 0.017662706213291107, 0.006648056670790033, 0.002466509291359931, 0.000910221180121784, 0.00033523767075636815, 0.00012337934976493025]\n"
          ]
        }
      ]
    },
    {
      "cell_type": "code",
      "source": [
        "f = plt.figure()\n",
        "f.set_figwidth(5)\n",
        "f.set_figheight(5)\n",
        "f.autofmt_xdate()\n",
        "plt.plot(sgmd_vals)\n",
        "plt.plot(derv_sgmd_vals)\n"
      ],
      "metadata": {
        "colab": {
          "base_uri": "https://localhost:8080/",
          "height": 417
        },
        "id": "4NIdbVgQGJkS",
        "outputId": "eee73131-b347-492c-998a-51e49e7f7e13"
      },
      "execution_count": null,
      "outputs": [
        {
          "output_type": "execute_result",
          "data": {
            "text/plain": [
              "[<matplotlib.lines.Line2D at 0x7ec16eff0d00>]"
            ]
          },
          "metadata": {},
          "execution_count": 82
        },
        {
          "output_type": "display_data",
          "data": {
            "text/plain": [
              "<Figure size 500x500 with 1 Axes>"
            ],
            "image/png": "[encoded data removed]"
          },
          "metadata": {}
        }
      ]
    },
    {
      "cell_type": "markdown",
      "source": [
        "TanH function and its Derivative"
      ],
      "metadata": {
        "id": "010nR8FC0LXP"
      }
    },
    {
      "cell_type": "code",
      "source": [
        "def tanh(x):\n",
        "  eq = (2/(1+math.e**(-2*x)))-1\n",
        "  return eq"
      ],
      "metadata": {
        "id": "t8qF4TZS0Svv"
      },
      "execution_count": null,
      "outputs": []
    },
    {
      "cell_type": "code",
      "source": [
        "def derv_tanh(fx):\n",
        "  eq = 1 - fx**2\n",
        "  return eq"
      ],
      "metadata": {
        "id": "Esua2SSE0uyr"
      },
      "execution_count": null,
      "outputs": []
    },
    {
      "cell_type": "code",
      "source": [
        "tanh_vals = [round(tanh(i),2) for i in np.arange(0,10,1)]\n",
        "print(tanh_vals)"
      ],
      "metadata": {
        "colab": {
          "base_uri": "https://localhost:8080/"
        },
        "id": "n1_DwBzt0KZn",
        "outputId": "0cbc4cba-e212-41d4-d51b-44f6cab2ea41"
      },
      "execution_count": null,
      "outputs": [
        {
          "output_type": "stream",
          "name": "stdout",
          "text": [
            "[0.0, 0.76, 0.96, 1.0, 1.0, 1.0, 1.0, 1.0, 1.0, 1.0]\n"
          ]
        }
      ]
    },
    {
      "cell_type": "code",
      "source": [
        "derv_tanh_vals = [round(derv_tanh(i),2) for i in tanh_vals]\n",
        "print(derv_tanh_vals)"
      ],
      "metadata": {
        "colab": {
          "base_uri": "https://localhost:8080/"
        },
        "id": "iV98PM3W0FTW",
        "outputId": "7f79e240-499b-44c8-ac08-0a42e2d8e48c"
      },
      "execution_count": null,
      "outputs": [
        {
          "output_type": "stream",
          "name": "stdout",
          "text": [
            "[1.0, 0.42, 0.08, 0.0, 0.0, 0.0, 0.0, 0.0, 0.0, 0.0]\n"
          ]
        }
      ]
    },
    {
      "cell_type": "code",
      "source": [
        "plt.plot(tanh_vals)\n",
        "plt.plot(derv_tanh_vals)"
      ],
      "metadata": {
        "colab": {
          "base_uri": "https://localhost:8080/",
          "height": 447
        },
        "id": "vWtp63hT2imR",
        "outputId": "d7f01c04-bd2d-4b87-c106-0e3110b51fd6"
      },
      "execution_count": null,
      "outputs": [
        {
          "output_type": "execute_result",
          "data": {
            "text/plain": [
              "[<matplotlib.lines.Line2D at 0x7ec16f1b6740>]"
            ]
          },
          "metadata": {},
          "execution_count": 81
        },
        {
          "output_type": "display_data",
          "data": {
            "text/plain": [
              "<Figure size 640x480 with 1 Axes>"
            ],
            "image/png": "[encoded data removed]"
          },
          "metadata": {}
        }
      ]
    },
    {
      "cell_type": "markdown",
      "source": [
        "ReLU function and its Derivative"
      ],
      "metadata": {
        "id": "yh_oBxpC1Z66"
      }
    },
    {
      "cell_type": "code",
      "source": [
        "def relu(x):\n",
        "  if x >= 0:\n",
        "    eq = x\n",
        "  else:\n",
        "    eq = 0\n",
        "  return eq"
      ],
      "metadata": {
        "id": "5oUvSwQx1mp9"
      },
      "execution_count": null,
      "outputs": []
    },
    {
      "cell_type": "code",
      "source": [
        "def derv_relu(x):\n",
        "  if x >= 0:\n",
        "    eq = 1\n",
        "  else:\n",
        "    eq = 0\n",
        "  return eq"
      ],
      "metadata": {
        "id": "4_65KH1e12sn"
      },
      "execution_count": null,
      "outputs": []
    },
    {
      "cell_type": "code",
      "source": [
        "relu_vals = [relu(i) for i in np.arange(0,10,1)]\n",
        "print(relu_vals)"
      ],
      "metadata": {
        "colab": {
          "base_uri": "https://localhost:8080/"
        },
        "id": "axnlSMTc1TT8",
        "outputId": "d98821d3-f093-4e58-d340-1e60636b85b3"
      },
      "execution_count": null,
      "outputs": [
        {
          "output_type": "stream",
          "name": "stdout",
          "text": [
            "[0, 1, 2, 3, 4, 5, 6, 7, 8, 9]\n"
          ]
        }
      ]
    },
    {
      "cell_type": "code",
      "source": [
        "derv_relu_vals = [derv_relu(i) for i in np.arange(0,10,1)]\n",
        "print(derv_relu_vals)"
      ],
      "metadata": {
        "colab": {
          "base_uri": "https://localhost:8080/"
        },
        "id": "ValQfKKk2GcG",
        "outputId": "102d8a02-9f32-423c-b4cd-964b6a254014"
      },
      "execution_count": null,
      "outputs": [
        {
          "output_type": "stream",
          "name": "stdout",
          "text": [
            "[1, 1, 1, 1, 1, 1, 1, 1, 1, 1]\n"
          ]
        }
      ]
    },
    {
      "cell_type": "code",
      "source": [
        "f = plt.figure()\n",
        "f.set_figwidth(5)\n",
        "f.set_figheight(5)\n",
        "plt.plot(relu_vals)\n",
        "plt.plot(derv_relu_vals)\n",
        "plt.xticks(relu_vals,np.arange(0, 10, step=1))"
      ],
      "metadata": {
        "colab": {
          "base_uri": "https://localhost:8080/",
          "height": 792
        },
        "id": "mVlO37wV2P09",
        "outputId": "81d77bf4-f3a8-4af9-91c8-5b69362d2db0"
      },
      "execution_count": null,
      "outputs": [
        {
          "output_type": "execute_result",
          "data": {
            "text/plain": [
              "([<matplotlib.axis.XTick at 0x7ec16f8b7850>,\n",
              "  <matplotlib.axis.XTick at 0x7ec16f8b77c0>,\n",
              "  <matplotlib.axis.XTick at 0x7ec16f8b66b0>,\n",
              "  <matplotlib.axis.XTick at 0x7ec16f65ac20>,\n",
              "  <matplotlib.axis.XTick at 0x7ec16f6808b0>,\n",
              "  <matplotlib.axis.XTick at 0x7ec16f681030>,\n",
              "  <matplotlib.axis.XTick at 0x7ec16f681660>,\n",
              "  <matplotlib.axis.XTick at 0x7ec16f70df60>,\n",
              "  <matplotlib.axis.XTick at 0x7ec16f7ddc30>,\n",
              "  <matplotlib.axis.XTick at 0x7ec16f7dd960>],\n",
              " [Text(0, 0, '0'),\n",
              "  Text(1, 0, '1'),\n",
              "  Text(2, 0, '2'),\n",
              "  Text(3, 0, '3'),\n",
              "  Text(4, 0, '4'),\n",
              "  Text(5, 0, '5'),\n",
              "  Text(6, 0, '6'),\n",
              "  Text(7, 0, '7'),\n",
              "  Text(8, 0, '8'),\n",
              "  Text(9, 0, '9')])"
            ]
          },
          "metadata": {},
          "execution_count": 65
        },
        {
          "output_type": "display_data",
          "data": {
            "text/plain": [
              "<Figure size 500x500 with 1 Axes>"
            ],
            "image/png": "[encoded data removed]"
          },
          "metadata": {}
        }
      ]
    },
    {
      "cell_type": "code",
      "source": [],
      "metadata": {
        "id": "476NOV-e2tQh"
      },
      "execution_count": null,
      "outputs": []
    }
  ]
}