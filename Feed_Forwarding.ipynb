{
  "nbformat": 4,
  "nbformat_minor": 0,
  "metadata": {
    "colab": {
      "provenance": []
    },
    "kernelspec": {
      "name": "python3",
      "display_name": "Python 3"
    },
    "language_info": {
      "name": "python"
    }
  },
  "cells": [
    {
      "cell_type": "markdown",
      "source": [
        "#Course: Deep Learning\n",
        "#Program: MBA Tech AI\n",
        "#Name:Aryan Jha\n",
        "#Topic : Feed Forwarding\n",
        "\n",
        "\n",
        "\n",
        "\n",
        "\n",
        "\n"
      ],
      "metadata": {
        "id": "YR45fKIrk-Ud"
      }
    },
    {
      "cell_type": "markdown",
      "source": [
        "# Task 1: Perform basic operations of Tensorflow\n"
      ],
      "metadata": {
        "id": "-D57RB19zNvq"
      }
    },
    {
      "cell_type": "code",
      "source": [
        "import numpy\n",
        "import tensorflow as tf\n",
        "tf.__version__"
      ],
      "metadata": {
        "id": "xTfxnKYToFmq",
        "outputId": "5d11cb86-3e87-4faf-c3b3-1c1fb147f7ba",
        "colab": {
          "base_uri": "https://localhost:8080/",
          "height": 35
        }
      },
      "execution_count": null,
      "outputs": [
        {
          "output_type": "execute_result",
          "data": {
            "text/plain": [
              "'2.12.0'"
            ],
            "application/vnd.google.colaboratory.intrinsic+json": {
              "type": "string"
            }
          },
          "metadata": {},
          "execution_count": 2
        }
      ]
    },
    {
      "cell_type": "code",
      "source": [
        "# constants\n",
        "x = tf.constant([[1,2,3],[4,5,6]])\n",
        "print(x)\n",
        "print(x.shape)\n",
        "print(x.dtype)\n",
        "print(x.numpy())"
      ],
      "metadata": {
        "id": "cAHvmu8MoZ7U",
        "colab": {
          "base_uri": "https://localhost:8080/"
        },
        "outputId": "7aa57319-948c-462d-97a1-ee90c4d6649e"
      },
      "execution_count": null,
      "outputs": [
        {
          "output_type": "stream",
          "name": "stdout",
          "text": [
            "tf.Tensor(\n",
            "[[1 2 3]\n",
            " [4 5 6]], shape=(2, 3), dtype=int32)\n",
            "(2, 3)\n",
            "<dtype: 'int32'>\n",
            "[[1 2 3]\n",
            " [4 5 6]]\n"
          ]
        }
      ]
    },
    {
      "cell_type": "code",
      "source": [
        "#variables\n",
        "var = tf.Variable([0.0,0.0,0.0])\n",
        "var.assign([1,2,3])\n",
        "print(var)\n",
        "var.assign_add([1,1,1])\n",
        "print(var)\n",
        "print(var.numpy())"
      ],
      "metadata": {
        "colab": {
          "base_uri": "https://localhost:8080/"
        },
        "id": "ldzuaW1cqZ7j",
        "outputId": "5009a9d8-bcba-4759-c409-5c39613c1eb7"
      },
      "execution_count": null,
      "outputs": [
        {
          "output_type": "stream",
          "name": "stdout",
          "text": [
            "<tf.Variable 'Variable:0' shape=(3,) dtype=float32, numpy=array([1., 2., 3.], dtype=float32)>\n",
            "<tf.Variable 'Variable:0' shape=(3,) dtype=float32, numpy=array([2., 3., 4.], dtype=float32)>\n",
            "[2. 3. 4.]\n"
          ]
        }
      ]
    },
    {
      "cell_type": "code",
      "source": [
        "#concatenation on columns\n",
        "A = tf.constant([[3,4,5],[1,2,3]])\n",
        "B = tf.constant([[1,1,1],[2,3,4]])\n",
        "AB_conc_col = tf.concat([A,B],axis=1)\n",
        "print(AB_conc_col.numpy())\n"
      ],
      "metadata": {
        "colab": {
          "base_uri": "https://localhost:8080/"
        },
        "id": "DF4Zl0EBq7KN",
        "outputId": "bd639230-7389-4ff6-d359-ad1882047a49"
      },
      "execution_count": null,
      "outputs": [
        {
          "output_type": "stream",
          "name": "stdout",
          "text": [
            "[[3 4 5 1 1 1]\n",
            " [1 2 3 2 3 4]]\n"
          ]
        }
      ]
    },
    {
      "cell_type": "code",
      "source": [
        "#concatenation on rows\n",
        "A = tf.constant([[3,4,5],[1,2,3]])\n",
        "B = tf.constant([[1,1,1],[2,3,4]])\n",
        "AB_conc_row = tf.concat([A,B],axis=0)\n",
        "print(AB_conc_row.numpy())"
      ],
      "metadata": {
        "colab": {
          "base_uri": "https://localhost:8080/"
        },
        "id": "I3pheLg4sNmL",
        "outputId": "e66f5ba4-64b0-4a6b-fd7c-9c90b153c607"
      },
      "execution_count": null,
      "outputs": [
        {
          "output_type": "stream",
          "name": "stdout",
          "text": [
            "[[3 4 5]\n",
            " [1 2 3]\n",
            " [1 1 1]\n",
            " [2 3 4]]\n"
          ]
        }
      ]
    },
    {
      "cell_type": "code",
      "source": [
        "#reshape\n",
        "t1 = tf.reshape(AB_conc_row, shape = [1,12])\n",
        "print(t1.numpy())"
      ],
      "metadata": {
        "colab": {
          "base_uri": "https://localhost:8080/"
        },
        "id": "tzYA_cs2sXO4",
        "outputId": "f243c9f0-f9f1-431a-ce0e-d3a0614a457d"
      },
      "execution_count": null,
      "outputs": [
        {
          "output_type": "stream",
          "name": "stdout",
          "text": [
            "[[3 4 5 1 2 3 1 1 1 2 3 4]]\n"
          ]
        }
      ]
    },
    {
      "cell_type": "code",
      "source": [
        "#operations\n",
        "a = tf.constant(2.0)\n",
        "b = tf.constant(3.5)\n",
        "c = tf.constant(5.6)\n",
        "\n",
        "add = tf.add(tf.add(a,b),c)\n",
        "print(add.numpy())"
      ],
      "metadata": {
        "colab": {
          "base_uri": "https://localhost:8080/"
        },
        "id": "B7pMUWxUtJLt",
        "outputId": "318c6a1c-daef-445f-f9c2-8f89b0928710"
      },
      "execution_count": null,
      "outputs": [
        {
          "output_type": "stream",
          "name": "stdout",
          "text": [
            "11.1\n"
          ]
        }
      ]
    },
    {
      "cell_type": "code",
      "source": [
        "X = tf.constant([[3,4,5],[1,2,3]])\n",
        "Y = tf.constant([[4,5,6],[2,3,34]])\n",
        "add = tf.add(X,Y)\n",
        "print(add.numpy())"
      ],
      "metadata": {
        "colab": {
          "base_uri": "https://localhost:8080/"
        },
        "id": "tOhgs1oSt8Qq",
        "outputId": "f5739acc-e1fb-43ac-9640-8aedad61bcfb"
      },
      "execution_count": null,
      "outputs": [
        {
          "output_type": "stream",
          "name": "stdout",
          "text": [
            "[[ 7  9 11]\n",
            " [ 3  5 37]]\n"
          ]
        }
      ]
    },
    {
      "cell_type": "code",
      "source": [
        "mul = tf.multiply(X,Y)\n",
        "print(mul.numpy())"
      ],
      "metadata": {
        "colab": {
          "base_uri": "https://localhost:8080/"
        },
        "id": "atPWnffmurHy",
        "outputId": "43a138ea-03cd-4fe8-8351-027601293a02"
      },
      "execution_count": null,
      "outputs": [
        {
          "output_type": "stream",
          "name": "stdout",
          "text": [
            "[[ 12  20  30]\n",
            " [  2   6 102]]\n"
          ]
        }
      ]
    },
    {
      "cell_type": "code",
      "source": [
        "x = tf.constant([[1., 1.],[2.,2.]])\n",
        "a = tf.reduce_mean(x)\n",
        "b = tf.reduce_mean(x,0)\n",
        "c = tf.reduce_mean(x,1)\n",
        "d = tf.reduce_mean(x, keepdims = True,axis=0)\n",
        "print(a.numpy())\n",
        "print(b.numpy())\n",
        "print(c.numpy())\n",
        "print(d.numpy())"
      ],
      "metadata": {
        "colab": {
          "base_uri": "https://localhost:8080/"
        },
        "id": "Ju_dZUGGxbEt",
        "outputId": "1d23ac7b-2f9c-41ae-f5bf-9e17334e3cad"
      },
      "execution_count": null,
      "outputs": [
        {
          "output_type": "stream",
          "name": "stdout",
          "text": [
            "1.5\n",
            "[1.5 1.5]\n",
            "[1. 2.]\n",
            "[[1.5 1.5]]\n"
          ]
        }
      ]
    },
    {
      "cell_type": "markdown",
      "source": [
        "# Task 2: Perform linear algebra operations using Tensorflow\n"
      ],
      "metadata": {
        "id": "wqeoEger0Qy-"
      }
    },
    {
      "cell_type": "code",
      "source": [
        "#linear algebra\n",
        "A =tf.constant([[2,7],[3,4]])\n",
        "At = tf.transpose(A)\n",
        "\n",
        "print(A.numpy())\n",
        "print(At.numpy())"
      ],
      "metadata": {
        "colab": {
          "base_uri": "https://localhost:8080/"
        },
        "id": "6pI24X1B0SKA",
        "outputId": "6414113e-c681-4738-8b7f-2f5c180fb39d"
      },
      "execution_count": null,
      "outputs": [
        {
          "output_type": "stream",
          "name": "stdout",
          "text": [
            "[[2 7]\n",
            " [3 4]]\n",
            "[[2 3]\n",
            " [7 4]]\n"
          ]
        }
      ]
    },
    {
      "cell_type": "code",
      "source": [
        "v = tf.constant([[5],[2]])\n",
        "print(v.numpy())\n"
      ],
      "metadata": {
        "colab": {
          "base_uri": "https://localhost:8080/"
        },
        "id": "SO81gp591GCG",
        "outputId": "e756391d-1642-4b56-b136-094732016b1f"
      },
      "execution_count": null,
      "outputs": [
        {
          "output_type": "stream",
          "name": "stdout",
          "text": [
            "[[5]\n",
            " [2]]\n"
          ]
        }
      ]
    },
    {
      "cell_type": "code",
      "source": [
        "Av = tf.matmul(A,v)\n",
        "print(Av.numpy())"
      ],
      "metadata": {
        "colab": {
          "base_uri": "https://localhost:8080/"
        },
        "id": "g-ztllRc1Tke",
        "outputId": "b1e6503d-9f0b-46f5-c75d-34389e2e2f43"
      },
      "execution_count": null,
      "outputs": [
        {
          "output_type": "stream",
          "name": "stdout",
          "text": [
            "[[24]\n",
            " [23]]\n"
          ]
        }
      ]
    },
    {
      "cell_type": "code",
      "source": [
        "Av2 = tf.multiply(A,v)\n",
        "print(Av2.numpy())"
      ],
      "metadata": {
        "colab": {
          "base_uri": "https://localhost:8080/"
        },
        "id": "e8SUhdwr1oPt",
        "outputId": "0b5aa245-4161-450e-d466-569b7d000573"
      },
      "execution_count": null,
      "outputs": [
        {
          "output_type": "stream",
          "name": "stdout",
          "text": [
            "[[10 35]\n",
            " [ 6  8]]\n"
          ]
        }
      ]
    },
    {
      "cell_type": "code",
      "source": [
        "#determinant\n",
        "Av2 = tf.cast(Av2, tf.float32)\n",
        "det_A = tf.linalg.det(Av2)\n",
        "det_A"
      ],
      "metadata": {
        "colab": {
          "base_uri": "https://localhost:8080/"
        },
        "id": "nlN8PhpX3yfY",
        "outputId": "a62c7001-79f5-46b4-cebb-6ed996b40ccd"
      },
      "execution_count": null,
      "outputs": [
        {
          "output_type": "execute_result",
          "data": {
            "text/plain": [
              "<tf.Tensor: shape=(), dtype=float32, numpy=-130.00003>"
            ]
          },
          "metadata": {},
          "execution_count": 16
        }
      ]
    },
    {
      "cell_type": "markdown",
      "source": [
        "# Task 3: Perform derivative and higher order derivative using gradient tape\n",
        "\n",
        "\n",
        "\n"
      ],
      "metadata": {
        "id": "AauoTgQwKUVL"
      }
    },
    {
      "cell_type": "code",
      "source": [
        "# f(x) = x^3"
      ],
      "metadata": {
        "id": "CWvCkBZjneph"
      },
      "execution_count": null,
      "outputs": []
    },
    {
      "cell_type": "code",
      "source": [
        "x = tf.constant(5.0)\n",
        "with tf.GradientTape() as  tape:\n",
        "  tape.watch(x)\n",
        "  y = x**3 #f(x)\n",
        "grad = tape.gradient(y,x) #dy/dx\n",
        "print(grad.numpy())"
      ],
      "metadata": {
        "colab": {
          "base_uri": "https://localhost:8080/"
        },
        "id": "-YYpsY01nk1h",
        "outputId": "b81e1ac5-3a42-448b-8ce6-7585de4613ce"
      },
      "execution_count": null,
      "outputs": [
        {
          "output_type": "stream",
          "name": "stdout",
          "text": [
            "75.0\n"
          ]
        }
      ]
    },
    {
      "cell_type": "code",
      "source": [
        "#variable\n",
        "#Higher Order Derivative\n",
        "x = tf.Variable(4.0, trainable= True)\n",
        "with tf.GradientTape() as tape1:\n",
        "  with tf.GradientTape() as tape2:\n",
        "    y = x**3\n",
        "    order_1 = tape2.gradient(y,x) #3x^2\n",
        "order_2 = tape1.gradient(order_1,x) #6x\n",
        "print(order_1.numpy())\n",
        "print(order_2.numpy())\n"
      ],
      "metadata": {
        "colab": {
          "base_uri": "https://localhost:8080/"
        },
        "id": "Jpjh4ISQoe58",
        "outputId": "0a1719a9-2de9-4924-84b9-d0c75d992508"
      },
      "execution_count": null,
      "outputs": [
        {
          "output_type": "stream",
          "name": "stdout",
          "text": [
            "48.0\n",
            "24.0\n"
          ]
        }
      ]
    },
    {
      "cell_type": "markdown",
      "source": [
        "# Task 4: Compute WX+b  where W,X,, and b  are drawn from a random normal distribution. W is of shape (4, 3), X is (3,1) and b is (4,1)."
      ],
      "metadata": {
        "id": "Tmdl89nUH-4M"
      }
    },
    {
      "cell_type": "code",
      "source": [
        "W = tf.constant([[4,3]])\n",
        "X = tf.constant([[3,1]])\n",
        "add1 = tf.add(W,X)\n",
        "print(add1.numpy())\n",
        "B = tf.constant([[4,1]])\n",
        "abc = tf.multiply(add1,B)\n",
        "print(abc.numpy())"
      ],
      "metadata": {
        "colab": {
          "base_uri": "https://localhost:8080/"
        },
        "id": "t0dzlB7Q7Jgj",
        "outputId": "a4d6789f-b199-4b70-8417-3a385c141648"
      },
      "execution_count": null,
      "outputs": [
        {
          "output_type": "stream",
          "name": "stdout",
          "text": [
            "[[7 4]]\n",
            "[[28  4]]\n"
          ]
        }
      ]
    },
    {
      "cell_type": "markdown",
      "source": [
        "# Task 5: Compute Gradient of sigmoid function\n",
        "![image.png](data:image/png;base64,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)"
      ],
      "metadata": {
        "id": "YgtalHLpKjCZ"
      }
    },
    {
      "cell_type": "code",
      "source": [
        "from tensorflow.python.ops.math_ops import exp\n",
        "x = tf.constant(4.0)\n",
        "with tf.GradientTape() as  tape:\n",
        "  tape.watch(x)\n",
        "  y = 1/(1+tf.exp(-x)) #f(x)\n",
        "grad = tape.gradient(y,x) #dy/dx\n",
        "print(grad.numpy())"
      ],
      "metadata": {
        "colab": {
          "base_uri": "https://localhost:8080/"
        },
        "id": "-JTtjZ5asJxp",
        "outputId": "e2087c65-0d6f-445a-f083-0f142d9c4f94"
      },
      "execution_count": null,
      "outputs": [
        {
          "output_type": "stream",
          "name": "stdout",
          "text": [
            "0.017662706\n"
          ]
        }
      ]
    },
    {
      "cell_type": "markdown",
      "source": [
        "# Task 6: State for which application they have used deep learning.\n"
      ],
      "metadata": {
        "id": "E9BvLr0DyQ1i"
      }
    },
    {
      "cell_type": "markdown",
      "source": [
        "Author name: Connor Shorten ,\"Deep Learning applications for COVID-19\",2021\n"
      ],
      "metadata": {
        "id": "jXESPm4qy93e"
      }
    },
    {
      "cell_type": "markdown",
      "source": [
        "We begin by evaluating the current state of Deep Learning and conclude with key limitations of Deep Learning for COVID-19 applications. Interpretability, Generalisation Metrics, Learning from Limited Labelled Data, and Data Privacy are some of these restrictions. Applications of Natural Language Processing include information retrieval, question answering, misinformation detection, public sentiment analysis, and mining COVID-19 research. Medical image analysis, ambient intelligence, and vision-based robotics are all examples of computer vision applications. Our survey examines how Deep Learning can be used in the Life Sciences for precision diagnostics, protein structure prediction, and drug repurposing. Spread forecasting in epidemiology has also made use of deep learning."
      ],
      "metadata": {
        "id": "LTf3UyxdyYLy"
      }
    }
  ]
}