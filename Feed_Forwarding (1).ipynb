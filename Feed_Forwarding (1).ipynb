{
  "nbformat": 4,
  "nbformat_minor": 0,
  "metadata": {
    "colab": {
      "provenance": []
    },
    "kernelspec": {
      "name": "python3",
      "display_name": "Python 3"
    },
    "language_info": {
      "name": "python"
    }
  },
  "cells": [
    {
      "cell_type": "markdown",
      "source": [
        "Name: Aryan Jha\n",
        "\n",
        "Course: MBA TECH AI\n",
        "\n",
        "Topic: Feed Forwarding"
      ],
      "metadata": {
        "id": "V_K_kw3gwnbj"
      }
    },
    {
      "cell_type": "code",
      "source": [
        "import pandas as pd\n",
        "import matplotlib.pyplot as plt\n",
        "import numpy as np"
      ],
      "metadata": {
        "id": "vzrg10I5xcW6"
      },
      "execution_count": null,
      "outputs": []
    },
    {
      "cell_type": "code",
      "source": [
        "#Input layer\n",
        "df=pd.read_csv('/content/Iris (1).csv')"
      ],
      "metadata": {
        "id": "E8Brdm3Bxcbi"
      },
      "execution_count": null,
      "outputs": []
    },
    {
      "cell_type": "code",
      "source": [
        "species=pd.get_dummies(df['Species'])"
      ],
      "metadata": {
        "id": "rZ64iPnexcd5"
      },
      "execution_count": null,
      "outputs": []
    },
    {
      "cell_type": "code",
      "source": [
        "species.head()"
      ],
      "metadata": {
        "colab": {
          "base_uri": "https://localhost:8080/",
          "height": 206
        },
        "id": "KUI2KlE3xcgP",
        "outputId": "12d14367-d9e2-42a3-9291-b84778716ca2"
      },
      "execution_count": null,
      "outputs": [
        {
          "output_type": "execute_result",
          "data": {
            "text/plain": [
              "   Iris-setosa  Iris-versicolor  Iris-virginica\n",
              "0            1                0               0\n",
              "1            1                0               0\n",
              "2            1                0               0\n",
              "3            1                0               0\n",
              "4            1                0               0"
            ],
            "text/html": [
              "\n",
              "\n",
              "  <div id=\"df-79877dab-9cbc-450e-97fa-8a185dfa5240\">\n",
              "    <div class=\"colab-df-container\">\n",
              "      <div>\n",
              "<style scoped>\n",
              "    .dataframe tbody tr th:only-of-type {\n",
              "        vertical-align: middle;\n",
              "    }\n",
              "\n",
              "    .dataframe tbody tr th {\n",
              "        vertical-align: top;\n",
              "    }\n",
              "\n",
              "    .dataframe thead th {\n",
              "        text-align: right;\n",
              "    }\n",
              "</style>\n",
              "<table border=\"1\" class=\"dataframe\">\n",
              "  <thead>\n",
              "    <tr style=\"text-align: right;\">\n",
              "      <th></th>\n",
              "      <th>Iris-setosa</th>\n",
              "      <th>Iris-versicolor</th>\n",
              "      <th>Iris-virginica</th>\n",
              "    </tr>\n",
              "  </thead>\n",
              "  <tbody>\n",
              "    <tr>\n",
              "      <th>0</th>\n",
              "      <td>1</td>\n",
              "      <td>0</td>\n",
              "      <td>0</td>\n",
              "    </tr>\n",
              "    <tr>\n",
              "      <th>1</th>\n",
              "      <td>1</td>\n",
              "      <td>0</td>\n",
              "      <td>0</td>\n",
              "    </tr>\n",
              "    <tr>\n",
              "      <th>2</th>\n",
              "      <td>1</td>\n",
              "      <td>0</td>\n",
              "      <td>0</td>\n",
              "    </tr>\n",
              "    <tr>\n",
              "      <th>3</th>\n",
              "      <td>1</td>\n",
              "      <td>0</td>\n",
              "      <td>0</td>\n",
              "    </tr>\n",
              "    <tr>\n",
              "      <th>4</th>\n",
              "      <td>1</td>\n",
              "      <td>0</td>\n",
              "      <td>0</td>\n",
              "    </tr>\n",
              "  </tbody>\n",
              "</table>\n",
              "</div>\n",
              "      <button class=\"colab-df-convert\" onclick=\"convertToInteractive('df-79877dab-9cbc-450e-97fa-8a185dfa5240')\"\n",
              "              title=\"Convert this dataframe to an interactive table.\"\n",
              "              style=\"display:none;\">\n",
              "\n",
              "  <svg xmlns=\"http://www.w3.org/2000/svg\" height=\"24px\"viewBox=\"0 0 24 24\"\n",
              "       width=\"24px\">\n",
              "    <path d=\"M0 0h24v24H0V0z\" fill=\"none\"/>\n",
              "    <path d=\"M18.56 5.44l.94 2.06.94-2.06 2.06-.94-2.06-.94-.94-2.06-.94 2.06-2.06.94zm-11 1L8.5 8.5l.94-2.06 2.06-.94-2.06-.94L8.5 2.5l-.94 2.06-2.06.94zm10 10l.94 2.06.94-2.06 2.06-.94-2.06-.94-.94-2.06-.94 2.06-2.06.94z\"/><path d=\"M17.41 7.96l-1.37-1.37c-.4-.4-.92-.59-1.43-.59-.52 0-1.04.2-1.43.59L10.3 9.45l-7.72 7.72c-.78.78-.78 2.05 0 2.83L4 21.41c.39.39.9.59 1.41.59.51 0 1.02-.2 1.41-.59l7.78-7.78 2.81-2.81c.8-.78.8-2.07 0-2.86zM5.41 20L4 18.59l7.72-7.72 1.47 1.35L5.41 20z\"/>\n",
              "  </svg>\n",
              "      </button>\n",
              "\n",
              "\n",
              "\n",
              "    <div id=\"df-fc02c118-49fb-484a-b942-eea30dcd647e\">\n",
              "      <button class=\"colab-df-quickchart\" onclick=\"quickchart('df-fc02c118-49fb-484a-b942-eea30dcd647e')\"\n",
              "              title=\"Suggest charts.\"\n",
              "              style=\"display:none;\">\n",
              "\n",
              "<svg xmlns=\"http://www.w3.org/2000/svg\" height=\"24px\"viewBox=\"0 0 24 24\"\n",
              "     width=\"24px\">\n",
              "    <g>\n",
              "        <path d=\"M19 3H5c-1.1 0-2 .9-2 2v14c0 1.1.9 2 2 2h14c1.1 0 2-.9 2-2V5c0-1.1-.9-2-2-2zM9 17H7v-7h2v7zm4 0h-2V7h2v10zm4 0h-2v-4h2v4z\"/>\n",
              "    </g>\n",
              "</svg>\n",
              "      </button>\n",
              "    </div>\n",
              "\n",
              "<style>\n",
              "  .colab-df-quickchart {\n",
              "    background-color: #E8F0FE;\n",
              "    border: none;\n",
              "    border-radius: 50%;\n",
              "    cursor: pointer;\n",
              "    display: none;\n",
              "    fill: #1967D2;\n",
              "    height: 32px;\n",
              "    padding: 0 0 0 0;\n",
              "    width: 32px;\n",
              "  }\n",
              "\n",
              "  .colab-df-quickchart:hover {\n",
              "    background-color: #E2EBFA;\n",
              "    box-shadow: 0px 1px 2px rgba(60, 64, 67, 0.3), 0px 1px 3px 1px rgba(60, 64, 67, 0.15);\n",
              "    fill: #174EA6;\n",
              "  }\n",
              "\n",
              "  [theme=dark] .colab-df-quickchart {\n",
              "    background-color: #3B4455;\n",
              "    fill: #D2E3FC;\n",
              "  }\n",
              "\n",
              "  [theme=dark] .colab-df-quickchart:hover {\n",
              "    background-color: #434B5C;\n",
              "    box-shadow: 0px 1px 3px 1px rgba(0, 0, 0, 0.15);\n",
              "    filter: drop-shadow(0px 1px 2px rgba(0, 0, 0, 0.3));\n",
              "    fill: #FFFFFF;\n",
              "  }\n",
              "</style>\n",
              "\n",
              "    <script>\n",
              "      async function quickchart(key) {\n",
              "        const containerElement = document.querySelector('#' + key);\n",
              "        const charts = await google.colab.kernel.invokeFunction(\n",
              "            'suggestCharts', [key], {});\n",
              "      }\n",
              "    </script>\n",
              "\n",
              "      <script>\n",
              "\n",
              "function displayQuickchartButton(domScope) {\n",
              "  let quickchartButtonEl =\n",
              "    domScope.querySelector('#df-fc02c118-49fb-484a-b942-eea30dcd647e button.colab-df-quickchart');\n",
              "  quickchartButtonEl.style.display =\n",
              "    google.colab.kernel.accessAllowed ? 'block' : 'none';\n",
              "}\n",
              "\n",
              "        displayQuickchartButton(document);\n",
              "      </script>\n",
              "      <style>\n",
              "    .colab-df-container {\n",
              "      display:flex;\n",
              "      flex-wrap:wrap;\n",
              "      gap: 12px;\n",
              "    }\n",
              "\n",
              "    .colab-df-convert {\n",
              "      background-color: #E8F0FE;\n",
              "      border: none;\n",
              "      border-radius: 50%;\n",
              "      cursor: pointer;\n",
              "      display: none;\n",
              "      fill: #1967D2;\n",
              "      height: 32px;\n",
              "      padding: 0 0 0 0;\n",
              "      width: 32px;\n",
              "    }\n",
              "\n",
              "    .colab-df-convert:hover {\n",
              "      background-color: #E2EBFA;\n",
              "      box-shadow: 0px 1px 2px rgba(60, 64, 67, 0.3), 0px 1px 3px 1px rgba(60, 64, 67, 0.15);\n",
              "      fill: #174EA6;\n",
              "    }\n",
              "\n",
              "    [theme=dark] .colab-df-convert {\n",
              "      background-color: #3B4455;\n",
              "      fill: #D2E3FC;\n",
              "    }\n",
              "\n",
              "    [theme=dark] .colab-df-convert:hover {\n",
              "      background-color: #434B5C;\n",
              "      box-shadow: 0px 1px 3px 1px rgba(0, 0, 0, 0.15);\n",
              "      filter: drop-shadow(0px 1px 2px rgba(0, 0, 0, 0.3));\n",
              "      fill: #FFFFFF;\n",
              "    }\n",
              "  </style>\n",
              "\n",
              "      <script>\n",
              "        const buttonEl =\n",
              "          document.querySelector('#df-79877dab-9cbc-450e-97fa-8a185dfa5240 button.colab-df-convert');\n",
              "        buttonEl.style.display =\n",
              "          google.colab.kernel.accessAllowed ? 'block' : 'none';\n",
              "\n",
              "        async function convertToInteractive(key) {\n",
              "          const element = document.querySelector('#df-79877dab-9cbc-450e-97fa-8a185dfa5240');\n",
              "          const dataTable =\n",
              "            await google.colab.kernel.invokeFunction('convertToInteractive',\n",
              "                                                     [key], {});\n",
              "          if (!dataTable) return;\n",
              "\n",
              "          const docLinkHtml = 'Like what you see? Visit the ' +\n",
              "            '<a target=\"_blank\" href=https://colab.research.google.com/notebooks/data_table.ipynb>data table notebook</a>'\n",
              "            + ' to learn more about interactive tables.';\n",
              "          element.innerHTML = '';\n",
              "          dataTable['output_type'] = 'display_data';\n",
              "          await google.colab.output.renderOutput(dataTable, element);\n",
              "          const docLink = document.createElement('div');\n",
              "          docLink.innerHTML = docLinkHtml;\n",
              "          element.appendChild(docLink);\n",
              "        }\n",
              "      </script>\n",
              "    </div>\n",
              "  </div>\n"
            ]
          },
          "metadata": {},
          "execution_count": 4
        }
      ]
    },
    {
      "cell_type": "code",
      "source": [
        "df.drop('Species',axis=1,inplace=True)"
      ],
      "metadata": {
        "id": "RZVCdabyxcii"
      },
      "execution_count": null,
      "outputs": []
    },
    {
      "cell_type": "code",
      "source": [
        "df"
      ],
      "metadata": {
        "colab": {
          "base_uri": "https://localhost:8080/",
          "height": 423
        },
        "id": "9_XnZxQ3xclK",
        "outputId": "f3c1728f-0411-486c-90fb-5309ba4572f5"
      },
      "execution_count": null,
      "outputs": [
        {
          "output_type": "execute_result",
          "data": {
            "text/plain": [
              "     SepalLengthCm  SepalWidthCm  PetalLengthCm  PetalWidthCm\n",
              "0              5.1           3.5            1.4           0.2\n",
              "1              4.9           3.0            1.4           0.2\n",
              "2              4.7           3.2            1.3           0.2\n",
              "3              4.6           3.1            1.5           0.2\n",
              "4              5.0           3.6            1.4           0.2\n",
              "..             ...           ...            ...           ...\n",
              "145            6.7           3.0            5.2           2.3\n",
              "146            6.3           2.5            5.0           1.9\n",
              "147            6.5           3.0            5.2           2.0\n",
              "148            6.2           3.4            5.4           2.3\n",
              "149            5.9           3.0            5.1           1.8\n",
              "\n",
              "[150 rows x 4 columns]"
            ],
            "text/html": [
              "\n",
              "\n",
              "  <div id=\"df-a11b5b66-caae-40a7-a991-9d374da37bd1\">\n",
              "    <div class=\"colab-df-container\">\n",
              "      <div>\n",
              "<style scoped>\n",
              "    .dataframe tbody tr th:only-of-type {\n",
              "        vertical-align: middle;\n",
              "    }\n",
              "\n",
              "    .dataframe tbody tr th {\n",
              "        vertical-align: top;\n",
              "    }\n",
              "\n",
              "    .dataframe thead th {\n",
              "        text-align: right;\n",
              "    }\n",
              "</style>\n",
              "<table border=\"1\" class=\"dataframe\">\n",
              "  <thead>\n",
              "    <tr style=\"text-align: right;\">\n",
              "      <th></th>\n",
              "      <th>SepalLengthCm</th>\n",
              "      <th>SepalWidthCm</th>\n",
              "      <th>PetalLengthCm</th>\n",
              "      <th>PetalWidthCm</th>\n",
              "    </tr>\n",
              "  </thead>\n",
              "  <tbody>\n",
              "    <tr>\n",
              "      <th>0</th>\n",
              "      <td>5.1</td>\n",
              "      <td>3.5</td>\n",
              "      <td>1.4</td>\n",
              "      <td>0.2</td>\n",
              "    </tr>\n",
              "    <tr>\n",
              "      <th>1</th>\n",
              "      <td>4.9</td>\n",
              "      <td>3.0</td>\n",
              "      <td>1.4</td>\n",
              "      <td>0.2</td>\n",
              "    </tr>\n",
              "    <tr>\n",
              "      <th>2</th>\n",
              "      <td>4.7</td>\n",
              "      <td>3.2</td>\n",
              "      <td>1.3</td>\n",
              "      <td>0.2</td>\n",
              "    </tr>\n",
              "    <tr>\n",
              "      <th>3</th>\n",
              "      <td>4.6</td>\n",
              "      <td>3.1</td>\n",
              "      <td>1.5</td>\n",
              "      <td>0.2</td>\n",
              "    </tr>\n",
              "    <tr>\n",
              "      <th>4</th>\n",
              "      <td>5.0</td>\n",
              "      <td>3.6</td>\n",
              "      <td>1.4</td>\n",
              "      <td>0.2</td>\n",
              "    </tr>\n",
              "    <tr>\n",
              "      <th>...</th>\n",
              "      <td>...</td>\n",
              "      <td>...</td>\n",
              "      <td>...</td>\n",
              "      <td>...</td>\n",
              "    </tr>\n",
              "    <tr>\n",
              "      <th>145</th>\n",
              "      <td>6.7</td>\n",
              "      <td>3.0</td>\n",
              "      <td>5.2</td>\n",
              "      <td>2.3</td>\n",
              "    </tr>\n",
              "    <tr>\n",
              "      <th>146</th>\n",
              "      <td>6.3</td>\n",
              "      <td>2.5</td>\n",
              "      <td>5.0</td>\n",
              "      <td>1.9</td>\n",
              "    </tr>\n",
              "    <tr>\n",
              "      <th>147</th>\n",
              "      <td>6.5</td>\n",
              "      <td>3.0</td>\n",
              "      <td>5.2</td>\n",
              "      <td>2.0</td>\n",
              "    </tr>\n",
              "    <tr>\n",
              "      <th>148</th>\n",
              "      <td>6.2</td>\n",
              "      <td>3.4</td>\n",
              "      <td>5.4</td>\n",
              "      <td>2.3</td>\n",
              "    </tr>\n",
              "    <tr>\n",
              "      <th>149</th>\n",
              "      <td>5.9</td>\n",
              "      <td>3.0</td>\n",
              "      <td>5.1</td>\n",
              "      <td>1.8</td>\n",
              "    </tr>\n",
              "  </tbody>\n",
              "</table>\n",
              "<p>150 rows × 4 columns</p>\n",
              "</div>\n",
              "      <button class=\"colab-df-convert\" onclick=\"convertToInteractive('df-a11b5b66-caae-40a7-a991-9d374da37bd1')\"\n",
              "              title=\"Convert this dataframe to an interactive table.\"\n",
              "              style=\"display:none;\">\n",
              "\n",
              "  <svg xmlns=\"http://www.w3.org/2000/svg\" height=\"24px\"viewBox=\"0 0 24 24\"\n",
              "       width=\"24px\">\n",
              "    <path d=\"M0 0h24v24H0V0z\" fill=\"none\"/>\n",
              "    <path d=\"M18.56 5.44l.94 2.06.94-2.06 2.06-.94-2.06-.94-.94-2.06-.94 2.06-2.06.94zm-11 1L8.5 8.5l.94-2.06 2.06-.94-2.06-.94L8.5 2.5l-.94 2.06-2.06.94zm10 10l.94 2.06.94-2.06 2.06-.94-2.06-.94-.94-2.06-.94 2.06-2.06.94z\"/><path d=\"M17.41 7.96l-1.37-1.37c-.4-.4-.92-.59-1.43-.59-.52 0-1.04.2-1.43.59L10.3 9.45l-7.72 7.72c-.78.78-.78 2.05 0 2.83L4 21.41c.39.39.9.59 1.41.59.51 0 1.02-.2 1.41-.59l7.78-7.78 2.81-2.81c.8-.78.8-2.07 0-2.86zM5.41 20L4 18.59l7.72-7.72 1.47 1.35L5.41 20z\"/>\n",
              "  </svg>\n",
              "      </button>\n",
              "\n",
              "\n",
              "\n",
              "    <div id=\"df-2d29a448-4d5d-482d-8ac7-942f486a0a0a\">\n",
              "      <button class=\"colab-df-quickchart\" onclick=\"quickchart('df-2d29a448-4d5d-482d-8ac7-942f486a0a0a')\"\n",
              "              title=\"Suggest charts.\"\n",
              "              style=\"display:none;\">\n",
              "\n",
              "<svg xmlns=\"http://www.w3.org/2000/svg\" height=\"24px\"viewBox=\"0 0 24 24\"\n",
              "     width=\"24px\">\n",
              "    <g>\n",
              "        <path d=\"M19 3H5c-1.1 0-2 .9-2 2v14c0 1.1.9 2 2 2h14c1.1 0 2-.9 2-2V5c0-1.1-.9-2-2-2zM9 17H7v-7h2v7zm4 0h-2V7h2v10zm4 0h-2v-4h2v4z\"/>\n",
              "    </g>\n",
              "</svg>\n",
              "      </button>\n",
              "    </div>\n",
              "\n",
              "<style>\n",
              "  .colab-df-quickchart {\n",
              "    background-color: #E8F0FE;\n",
              "    border: none;\n",
              "    border-radius: 50%;\n",
              "    cursor: pointer;\n",
              "    display: none;\n",
              "    fill: #1967D2;\n",
              "    height: 32px;\n",
              "    padding: 0 0 0 0;\n",
              "    width: 32px;\n",
              "  }\n",
              "\n",
              "  .colab-df-quickchart:hover {\n",
              "    background-color: #E2EBFA;\n",
              "    box-shadow: 0px 1px 2px rgba(60, 64, 67, 0.3), 0px 1px 3px 1px rgba(60, 64, 67, 0.15);\n",
              "    fill: #174EA6;\n",
              "  }\n",
              "\n",
              "  [theme=dark] .colab-df-quickchart {\n",
              "    background-color: #3B4455;\n",
              "    fill: #D2E3FC;\n",
              "  }\n",
              "\n",
              "  [theme=dark] .colab-df-quickchart:hover {\n",
              "    background-color: #434B5C;\n",
              "    box-shadow: 0px 1px 3px 1px rgba(0, 0, 0, 0.15);\n",
              "    filter: drop-shadow(0px 1px 2px rgba(0, 0, 0, 0.3));\n",
              "    fill: #FFFFFF;\n",
              "  }\n",
              "</style>\n",
              "\n",
              "    <script>\n",
              "      async function quickchart(key) {\n",
              "        const containerElement = document.querySelector('#' + key);\n",
              "        const charts = await google.colab.kernel.invokeFunction(\n",
              "            'suggestCharts', [key], {});\n",
              "      }\n",
              "    </script>\n",
              "\n",
              "      <script>\n",
              "\n",
              "function displayQuickchartButton(domScope) {\n",
              "  let quickchartButtonEl =\n",
              "    domScope.querySelector('#df-2d29a448-4d5d-482d-8ac7-942f486a0a0a button.colab-df-quickchart');\n",
              "  quickchartButtonEl.style.display =\n",
              "    google.colab.kernel.accessAllowed ? 'block' : 'none';\n",
              "}\n",
              "\n",
              "        displayQuickchartButton(document);\n",
              "      </script>\n",
              "      <style>\n",
              "    .colab-df-container {\n",
              "      display:flex;\n",
              "      flex-wrap:wrap;\n",
              "      gap: 12px;\n",
              "    }\n",
              "\n",
              "    .colab-df-convert {\n",
              "      background-color: #E8F0FE;\n",
              "      border: none;\n",
              "      border-radius: 50%;\n",
              "      cursor: pointer;\n",
              "      display: none;\n",
              "      fill: #1967D2;\n",
              "      height: 32px;\n",
              "      padding: 0 0 0 0;\n",
              "      width: 32px;\n",
              "    }\n",
              "\n",
              "    .colab-df-convert:hover {\n",
              "      background-color: #E2EBFA;\n",
              "      box-shadow: 0px 1px 2px rgba(60, 64, 67, 0.3), 0px 1px 3px 1px rgba(60, 64, 67, 0.15);\n",
              "      fill: #174EA6;\n",
              "    }\n",
              "\n",
              "    [theme=dark] .colab-df-convert {\n",
              "      background-color: #3B4455;\n",
              "      fill: #D2E3FC;\n",
              "    }\n",
              "\n",
              "    [theme=dark] .colab-df-convert:hover {\n",
              "      background-color: #434B5C;\n",
              "      box-shadow: 0px 1px 3px 1px rgba(0, 0, 0, 0.15);\n",
              "      filter: drop-shadow(0px 1px 2px rgba(0, 0, 0, 0.3));\n",
              "      fill: #FFFFFF;\n",
              "    }\n",
              "  </style>\n",
              "\n",
              "      <script>\n",
              "        const buttonEl =\n",
              "          document.querySelector('#df-a11b5b66-caae-40a7-a991-9d374da37bd1 button.colab-df-convert');\n",
              "        buttonEl.style.display =\n",
              "          google.colab.kernel.accessAllowed ? 'block' : 'none';\n",
              "\n",
              "        async function convertToInteractive(key) {\n",
              "          const element = document.querySelector('#df-a11b5b66-caae-40a7-a991-9d374da37bd1');\n",
              "          const dataTable =\n",
              "            await google.colab.kernel.invokeFunction('convertToInteractive',\n",
              "                                                     [key], {});\n",
              "          if (!dataTable) return;\n",
              "\n",
              "          const docLinkHtml = 'Like what you see? Visit the ' +\n",
              "            '<a target=\"_blank\" href=https://colab.research.google.com/notebooks/data_table.ipynb>data table notebook</a>'\n",
              "            + ' to learn more about interactive tables.';\n",
              "          element.innerHTML = '';\n",
              "          dataTable['output_type'] = 'display_data';\n",
              "          await google.colab.output.renderOutput(dataTable, element);\n",
              "          const docLink = document.createElement('div');\n",
              "          docLink.innerHTML = docLinkHtml;\n",
              "          element.appendChild(docLink);\n",
              "        }\n",
              "      </script>\n",
              "    </div>\n",
              "  </div>\n"
            ]
          },
          "metadata": {},
          "execution_count": 6
        }
      ]
    },
    {
      "cell_type": "code",
      "source": [
        "from sklearn.preprocessing import StandardScaler\n",
        "std_scaler = StandardScaler()"
      ],
      "metadata": {
        "id": "x-q24ft5ytCr"
      },
      "execution_count": null,
      "outputs": []
    },
    {
      "cell_type": "code",
      "source": [
        "df_scaled=std_scaler.fit_transform(df)"
      ],
      "metadata": {
        "id": "t4heTDdrytE-"
      },
      "execution_count": null,
      "outputs": []
    },
    {
      "cell_type": "code",
      "source": [
        "df_transformed=pd.DataFrame(df_scaled,columns=['SepalLengthCm','SepalWidthCm','PetalLengthCm','PetalWidthCm'])"
      ],
      "metadata": {
        "id": "xhPzhI30ytHm"
      },
      "execution_count": null,
      "outputs": []
    },
    {
      "cell_type": "code",
      "source": [
        "Iris_df=pd.concat([df_transformed,species], axis=1)\n",
        "#Axis=1 to concatenate columns"
      ],
      "metadata": {
        "id": "KHZsxpDnytJ8"
      },
      "execution_count": null,
      "outputs": []
    },
    {
      "cell_type": "markdown",
      "source": [
        "Input dimensions: 150 (no. of samples) x 4 (no. of features)"
      ],
      "metadata": {
        "id": "LDsSaKst3dc-"
      }
    },
    {
      "cell_type": "code",
      "source": [
        "input=Iris_df.iloc[:, 0:4]"
      ],
      "metadata": {
        "id": "zUcrz6c52I70"
      },
      "execution_count": null,
      "outputs": []
    },
    {
      "cell_type": "code",
      "source": [
        "input.shape"
      ],
      "metadata": {
        "colab": {
          "base_uri": "https://localhost:8080/"
        },
        "id": "BG3rozTW2I-J",
        "outputId": "fa250623-5527-4e4a-ae9e-db150216cf4e"
      },
      "execution_count": null,
      "outputs": [
        {
          "output_type": "execute_result",
          "data": {
            "text/plain": [
              "(150, 4)"
            ]
          },
          "metadata": {},
          "execution_count": 12
        }
      ]
    },
    {
      "cell_type": "code",
      "source": [
        "print(input)"
      ],
      "metadata": {
        "colab": {
          "base_uri": "https://localhost:8080/"
        },
        "id": "9PNvpvD42JAw",
        "outputId": "794a82dc-e14d-4427-db13-c43d1174bbf0"
      },
      "execution_count": null,
      "outputs": [
        {
          "output_type": "stream",
          "name": "stdout",
          "text": [
            "     SepalLengthCm  SepalWidthCm  PetalLengthCm  PetalWidthCm\n",
            "0        -0.900681      1.032057      -1.341272     -1.312977\n",
            "1        -1.143017     -0.124958      -1.341272     -1.312977\n",
            "2        -1.385353      0.337848      -1.398138     -1.312977\n",
            "3        -1.506521      0.106445      -1.284407     -1.312977\n",
            "4        -1.021849      1.263460      -1.341272     -1.312977\n",
            "..             ...           ...            ...           ...\n",
            "145       1.038005     -0.124958       0.819624      1.447956\n",
            "146       0.553333     -1.281972       0.705893      0.922064\n",
            "147       0.795669     -0.124958       0.819624      1.053537\n",
            "148       0.432165      0.800654       0.933356      1.447956\n",
            "149       0.068662     -0.124958       0.762759      0.790591\n",
            "\n",
            "[150 rows x 4 columns]\n"
          ]
        }
      ]
    },
    {
      "cell_type": "markdown",
      "source": [
        "Initialize weights and biases"
      ],
      "metadata": {
        "id": "yeWprUNT8HLG"
      }
    },
    {
      "cell_type": "code",
      "source": [
        "np.random.seed(42) #To ensure we get the same weights every time we run it\n",
        "w_i_h1=np.random.rand(4,1)\n",
        "w_i_h2=np.random.rand(4,1)\n",
        "w_i_h3=np.random.rand(4,1)\n",
        "w_h_o1=np.random.rand(2,1)\n",
        "w_h_o2=np.random.rand(2,1)\n",
        "w_h_o3=np.random.rand(2,1)\n",
        "bias1=np.random.rand(1)\n",
        "bias2=np.random.rand(1)\n",
        "bias3=np.random.rand(1)"
      ],
      "metadata": {
        "id": "X7Qgxy8b9rNX"
      },
      "execution_count": null,
      "outputs": []
    },
    {
      "cell_type": "code",
      "source": [
        "print(w_i_h1)\n",
        "print(w_i_h2)\n",
        "print(w_i_h3)\n",
        "print(w_h_o1)"
      ],
      "metadata": {
        "colab": {
          "base_uri": "https://localhost:8080/"
        },
        "id": "FGfyIokA-p82",
        "outputId": "7869830e-42b4-438c-f6b0-ec17b3290d9b"
      },
      "execution_count": null,
      "outputs": [
        {
          "output_type": "stream",
          "name": "stdout",
          "text": [
            "[[0.37454012]\n",
            " [0.95071431]\n",
            " [0.73199394]\n",
            " [0.59865848]]\n",
            "[[0.15601864]\n",
            " [0.15599452]\n",
            " [0.05808361]\n",
            " [0.86617615]]\n",
            "[[0.60111501]\n",
            " [0.70807258]\n",
            " [0.02058449]\n",
            " [0.96990985]]\n",
            "[[0.83244264]\n",
            " [0.21233911]]\n"
          ]
        }
      ]
    },
    {
      "cell_type": "markdown",
      "source": [
        "Sigmoid function"
      ],
      "metadata": {
        "id": "c1rL2QHZ_V2H"
      }
    },
    {
      "cell_type": "code",
      "source": [
        "import math"
      ],
      "metadata": {
        "id": "ghn3K_H5_vQu"
      },
      "execution_count": null,
      "outputs": []
    },
    {
      "cell_type": "code",
      "source": [
        "sigmoid= lambda x: 1/(1+(np.exp(-x)))"
      ],
      "metadata": {
        "id": "WKHM-JJS_YoH"
      },
      "execution_count": null,
      "outputs": []
    },
    {
      "cell_type": "code",
      "source": [
        "def sigmoid(x):\n",
        "  return 1/(1+(np.exp(-x)))"
      ],
      "metadata": {
        "id": "O32CJabrAS7e"
      },
      "execution_count": null,
      "outputs": []
    },
    {
      "cell_type": "code",
      "source": [
        "sigmoid(0)"
      ],
      "metadata": {
        "colab": {
          "base_uri": "https://localhost:8080/"
        },
        "id": "q19taRP0_mhP",
        "outputId": "4eb45aaf-5efe-4d8f-f320-a9265be237c2"
      },
      "execution_count": null,
      "outputs": [
        {
          "output_type": "execute_result",
          "data": {
            "text/plain": [
              "0.5"
            ]
          },
          "metadata": {},
          "execution_count": 19
        }
      ]
    },
    {
      "cell_type": "code",
      "source": [
        "print(np.dot(input,w_i_h1))"
      ],
      "metadata": {
        "colab": {
          "base_uri": "https://localhost:8080/"
        },
        "id": "yDbrBY3C6F42",
        "outputId": "4278af6d-77f5-4dc4-9a55-24c99c76b395"
      },
      "execution_count": null,
      "outputs": [
        {
          "output_type": "stream",
          "name": "stdout",
          "text": [
            "[[-1.12397760e+00]\n",
            " [-2.31473260e+00]\n",
            " [-2.00712619e+00]\n",
            " [-2.18925583e+00]\n",
            " [-9.49361715e-01]\n",
            " [ 1.74452398e-01]\n",
            " [-1.49217944e+00]\n",
            " [-1.34773258e+00]\n",
            " [-2.76164185e+00]\n",
            " [-2.13181655e+00]\n",
            " [-5.06209341e-01]\n",
            " [-1.39687169e+00]\n",
            " [-2.43882224e+00]\n",
            " [-2.79060943e+00]\n",
            " [ 2.10437850e-01]\n",
            " [ 1.32733893e+00]\n",
            " [ 7.95099471e-03]\n",
            " [-1.04527019e+00]\n",
            " [ 1.18935653e-02]\n",
            " [-3.43650508e-01]\n",
            " [-1.08295297e+00]\n",
            " [-4.84941208e-01]\n",
            " [-1.29739203e+00]\n",
            " [-1.20297554e+00]\n",
            " [-1.27199564e+00]\n",
            " [-2.18609967e+00]\n",
            " [-1.14869241e+00]\n",
            " [-1.03697002e+00]\n",
            " [-1.29859348e+00]\n",
            " [-1.88225014e+00]\n",
            " [-2.05686602e+00]\n",
            " [-1.00878885e+00]\n",
            " [ 2.04311231e-01]\n",
            " [ 5.97538085e-01]\n",
            " [-2.13181655e+00]\n",
            " [-1.91260485e+00]\n",
            " [-9.84074033e-01]\n",
            " [-2.13181655e+00]\n",
            " [-2.58326909e+00]\n",
            " [-1.30235035e+00]\n",
            " [-1.13227777e+00]\n",
            " [-3.99916622e+00]\n",
            " [-2.14327288e+00]\n",
            " [-7.71279487e-01]\n",
            " [-9.84416957e-02]\n",
            " [-2.28140742e+00]\n",
            " [-3.80732566e-01]\n",
            " [-2.01088307e+00]\n",
            " [-5.51591569e-01]\n",
            " [-1.60935604e+00]\n",
            " [ 1.39641590e+00]\n",
            " [ 1.11957924e+00]\n",
            " [ 1.29299368e+00]\n",
            " [-1.63438538e+00]\n",
            " [ 3.26594380e-01]\n",
            " [-2.35503617e-01]\n",
            " [ 1.45615323e+00]\n",
            " [-2.21418032e+00]\n",
            " [ 4.34559900e-01]\n",
            " [-8.53457566e-01]\n",
            " [-2.96553983e+00]\n",
            " [ 3.27795824e-01]\n",
            " [-1.86359457e+00]\n",
            " [ 3.27981517e-01]\n",
            " [-4.35515894e-01]\n",
            " [ 9.15395055e-01]\n",
            " [ 3.16525191e-01]\n",
            " [-8.12743128e-01]\n",
            " [-1.17116631e+00]\n",
            " [-1.34804710e+00]\n",
            " [ 1.25366638e+00]\n",
            " [-2.62101457e-01]\n",
            " [-2.99288353e-01]\n",
            " [-4.94314102e-02]\n",
            " [ 2.18919391e-01]\n",
            " [ 6.50014717e-01]\n",
            " [ 4.67284359e-01]\n",
            " [ 1.18127128e+00]\n",
            " [ 2.78055996e-01]\n",
            " [-1.32787557e+00]\n",
            " [-1.65505279e+00]\n",
            " [-1.77538555e+00]\n",
            " [-7.38579012e-01]\n",
            " [ 1.66519291e-01]\n",
            " [ 2.25760734e-01]\n",
            " [ 1.45675395e+00]\n",
            " [ 1.11897852e+00]\n",
            " [-1.10482614e+00]\n",
            " [-7.39103019e-03]\n",
            " [-1.19438916e+00]\n",
            " [-8.86597053e-01]\n",
            " [ 5.06354276e-01]\n",
            " [-9.16951771e-01]\n",
            " [-2.38879620e+00]\n",
            " [-6.25760008e-01]\n",
            " [ 9.09140275e-04]\n",
            " [-1.40381560e-01]\n",
            " [ 1.28154934e-01]\n",
            " [-1.94958640e+00]\n",
            " [-4.02005021e-01]\n",
            " [ 2.70564947e+00]\n",
            " [ 3.11877060e-01]\n",
            " [ 2.05225799e+00]\n",
            " [ 1.10820377e+00]\n",
            " [ 1.81704667e+00]\n",
            " [ 2.57054658e+00]\n",
            " [-9.43726139e-01]\n",
            " [ 1.85340351e+00]\n",
            " [ 4.92990945e-01]\n",
            " [ 3.81570921e+00]\n",
            " [ 1.80825062e+00]\n",
            " [ 6.67421134e-01]\n",
            " [ 1.74960990e+00]\n",
            " [-1.36419329e-01]\n",
            " [ 9.25412215e-01]\n",
            " [ 2.08224132e+00]\n",
            " [ 1.37734098e+00]\n",
            " [ 4.49624645e+00]\n",
            " [ 2.01822724e+00]\n",
            " [-1.05380402e+00]\n",
            " [ 2.47565386e+00]\n",
            " [ 4.36567420e-01]\n",
            " [ 2.13885054e+00]\n",
            " [ 3.76830093e-01]\n",
            " [ 2.44747270e+00]\n",
            " [ 2.34313956e+00]\n",
            " [ 5.09820623e-01]\n",
            " [ 9.46059964e-01]\n",
            " [ 1.16971011e+00]\n",
            " [ 1.66247782e+00]\n",
            " [ 1.67424434e+00]\n",
            " [ 4.30472003e+00]\n",
            " [ 1.24841752e+00]\n",
            " [ 4.43956677e-01]\n",
            " [ 4.26153460e-02]\n",
            " [ 2.56521688e+00]\n",
            " [ 2.68043877e+00]\n",
            " [ 1.55195686e+00]\n",
            " [ 8.59052385e-01]\n",
            " [ 1.97336488e+00]\n",
            " [ 2.20197335e+00]\n",
            " [ 2.00590365e+00]\n",
            " [ 3.11877060e-01]\n",
            " [ 2.51352234e+00]\n",
            " [ 2.76230233e+00]\n",
            " [ 1.73676643e+00]\n",
            " [ 5.71666335e-02]\n",
            " [ 1.40987975e+00]\n",
            " [ 2.47309843e+00]\n",
            " [ 9.38546208e-01]]\n"
          ]
        }
      ]
    },
    {
      "cell_type": "code",
      "source": [
        "print(bias1)"
      ],
      "metadata": {
        "colab": {
          "base_uri": "https://localhost:8080/"
        },
        "id": "5RmOd2qU6GKy",
        "outputId": "d6cf828b-b85e-43af-9c87-5d9ba013929e"
      },
      "execution_count": null,
      "outputs": [
        {
          "output_type": "stream",
          "name": "stdout",
          "text": [
            "[0.43194502]\n"
          ]
        }
      ]
    },
    {
      "cell_type": "code",
      "source": [
        "#Feedforward Step1 - input to hidden layer\n",
        "Z2_1=np.dot(input,w_i_h1) + bias1\n",
        "Z2_2=np.dot(input,w_i_h2) + bias2\n",
        "Z2_3=np.dot(input,w_i_h3) + bias3"
      ],
      "metadata": {
        "id": "Hb2AWMRj7aXH"
      },
      "execution_count": null,
      "outputs": []
    },
    {
      "cell_type": "code",
      "source": [
        "#Feedforward step - 2\n",
        "h2_1=sigmoid(Z2_1)\n",
        "h2_2= sigmoid(Z2_2)\n",
        "h2_3= sigmoid(Z2_3)"
      ],
      "metadata": {
        "id": "vkpUso-m7dWw"
      },
      "execution_count": null,
      "outputs": []
    },
    {
      "cell_type": "code",
      "source": [
        "h2_1.shape"
      ],
      "metadata": {
        "colab": {
          "base_uri": "https://localhost:8080/"
        },
        "id": "jghObakZ9W9m",
        "outputId": "8e2bb7e5-8ab3-4dcb-b28f-013ce1e52051"
      },
      "execution_count": null,
      "outputs": [
        {
          "output_type": "execute_result",
          "data": {
            "text/plain": [
              "(150, 1)"
            ]
          },
          "metadata": {},
          "execution_count": 24
        }
      ]
    },
    {
      "cell_type": "markdown",
      "source": [
        "If we don't apply a sigmoid function, it will act only as a linear classifier.\n",
        "The activation function is added to include non-linearity."
      ],
      "metadata": {
        "id": "V7BfQC-D8dpW"
      }
    },
    {
      "cell_type": "code",
      "source": [
        "#Each output neuron gets input from both hidden layers so append both into an array\n",
        "h2=np.append(h2_1,h2_2,axis=1)"
      ],
      "metadata": {
        "id": "ZkHmvyq_8fD_"
      },
      "execution_count": null,
      "outputs": []
    },
    {
      "cell_type": "code",
      "source": [
        "h2=np.append(h2_2,h2_3,axis=1)"
      ],
      "metadata": {
        "id": "9cwwRl8rBliL"
      },
      "execution_count": null,
      "outputs": []
    },
    {
      "cell_type": "code",
      "source": [
        "h2.shape"
      ],
      "metadata": {
        "colab": {
          "base_uri": "https://localhost:8080/"
        },
        "id": "P_QA3JbM8fIn",
        "outputId": "1cfc6eb5-dbe3-4ca7-a168-967da768579f"
      },
      "execution_count": null,
      "outputs": [
        {
          "output_type": "execute_result",
          "data": {
            "text/plain": [
              "(150, 2)"
            ]
          },
          "metadata": {},
          "execution_count": 27
        }
      ]
    },
    {
      "cell_type": "code",
      "source": [
        "#Feedforward step 3 - input from hidden layer to output\n",
        "Z3_1=np.dot(h2,w_h_o1)\n",
        "Z3_2=np.dot(h2,w_h_o2)\n",
        "Z3_3=np.dot(h2,w_h_o3)"
      ],
      "metadata": {
        "id": "nvrVxLPaD4CH"
      },
      "execution_count": null,
      "outputs": []
    },
    {
      "cell_type": "code",
      "source": [
        "#Feedforward step 4 - generating outputs\n",
        "o1=sigmoid(Z3_1)\n",
        "o2= sigmoid(Z3_2)\n",
        "o3= sigmoid(Z3_3)"
      ],
      "metadata": {
        "id": "71TD21WkD52R"
      },
      "execution_count": null,
      "outputs": []
    },
    {
      "cell_type": "code",
      "source": [
        "print(o1.shape)"
      ],
      "metadata": {
        "id": "kIwM8CDQD7G1",
        "colab": {
          "base_uri": "https://localhost:8080/"
        },
        "outputId": "aa447541-40e9-4694-a5e3-55089fcd525a"
      },
      "execution_count": null,
      "outputs": [
        {
          "output_type": "stream",
          "name": "stdout",
          "text": [
            "(150, 1)\n"
          ]
        }
      ]
    },
    {
      "cell_type": "code",
      "source": [
        "print(Z2_1.shape)"
      ],
      "metadata": {
        "colab": {
          "base_uri": "https://localhost:8080/"
        },
        "id": "MsetygNnx6KL",
        "outputId": "df9c90da-1e13-4500-e649-0b50a91ebbe3"
      },
      "execution_count": null,
      "outputs": [
        {
          "output_type": "stream",
          "name": "stdout",
          "text": [
            "(150, 1)\n"
          ]
        }
      ]
    },
    {
      "cell_type": "code",
      "source": [
        "t1 = np.array(Iris_df.iloc[:,4])"
      ],
      "metadata": {
        "id": "ZsOWFkNBx9td"
      },
      "execution_count": null,
      "outputs": []
    },
    {
      "cell_type": "code",
      "source": [
        "t1.shape"
      ],
      "metadata": {
        "colab": {
          "base_uri": "https://localhost:8080/"
        },
        "id": "zfVqWPWWymDa",
        "outputId": "6d5c7fb6-8d7f-443b-802a-ac2086f90b6e"
      },
      "execution_count": null,
      "outputs": [
        {
          "output_type": "execute_result",
          "data": {
            "text/plain": [
              "(150,)"
            ]
          },
          "metadata": {},
          "execution_count": 33
        }
      ]
    },
    {
      "cell_type": "code",
      "source": [
        "t1 = t1.reshape((-1,1))"
      ],
      "metadata": {
        "id": "zvVZhsLbyoSF"
      },
      "execution_count": null,
      "outputs": []
    },
    {
      "cell_type": "code",
      "source": [
        "t1.shape"
      ],
      "metadata": {
        "colab": {
          "base_uri": "https://localhost:8080/"
        },
        "id": "bI8uW3GeysA7",
        "outputId": "00116fb7-6fff-4287-ea21-1a181aae424f"
      },
      "execution_count": null,
      "outputs": [
        {
          "output_type": "execute_result",
          "data": {
            "text/plain": [
              "(150, 1)"
            ]
          },
          "metadata": {},
          "execution_count": 35
        }
      ]
    },
    {
      "cell_type": "code",
      "source": [
        "e1 = t1-o1"
      ],
      "metadata": {
        "id": "3MFj1ezvzu7b"
      },
      "execution_count": null,
      "outputs": []
    },
    {
      "cell_type": "code",
      "source": [
        "print(e1.shape)"
      ],
      "metadata": {
        "colab": {
          "base_uri": "https://localhost:8080/"
        },
        "id": "2BwmLpAzzzIO",
        "outputId": "9b7e71ae-6921-4580-940e-2aaa79c88391"
      },
      "execution_count": null,
      "outputs": [
        {
          "output_type": "stream",
          "name": "stdout",
          "text": [
            "(150, 1)\n"
          ]
        }
      ]
    },
    {
      "cell_type": "code",
      "source": [
        "t2 = np.array(Iris_df.iloc[:,5])\n",
        "t2 = t2.reshape((-1,1))\n",
        "e2 = t2-o2\n",
        "print(e2.shape)"
      ],
      "metadata": {
        "colab": {
          "base_uri": "https://localhost:8080/"
        },
        "id": "lL6npIxXzOi7",
        "outputId": "ddacd900-bdce-470d-998c-da636c5d9d35"
      },
      "execution_count": null,
      "outputs": [
        {
          "output_type": "stream",
          "name": "stdout",
          "text": [
            "(150, 1)\n"
          ]
        }
      ]
    },
    {
      "cell_type": "code",
      "source": [
        "t3 = np.array(Iris_df.iloc[:,6])\n",
        "t3 = t3.reshape((-1,1))\n",
        "e3 = t3-o3\n",
        "print(e3.shape)"
      ],
      "metadata": {
        "colab": {
          "base_uri": "https://localhost:8080/"
        },
        "id": "46KW-U2By66b",
        "outputId": "ececc5f3-3554-42b5-eaed-0907c2fb03f6"
      },
      "execution_count": null,
      "outputs": [
        {
          "output_type": "stream",
          "name": "stdout",
          "text": [
            "(150, 1)\n"
          ]
        }
      ]
    },
    {
      "cell_type": "code",
      "source": [
        "error = np.multiply(e1,e1)+np.multiply(e2,e2)+np.multiply(e3,e3)"
      ],
      "metadata": {
        "id": "_H5xTk-Gzfby"
      },
      "execution_count": null,
      "outputs": []
    },
    {
      "cell_type": "code",
      "source": [
        "print(error.shape)"
      ],
      "metadata": {
        "colab": {
          "base_uri": "https://localhost:8080/"
        },
        "id": "_sSMWQs-0BhC",
        "outputId": "ec0b793e-afe4-4334-f11f-7020366e24b7"
      },
      "execution_count": null,
      "outputs": [
        {
          "output_type": "stream",
          "name": "stdout",
          "text": [
            "(150, 1)\n"
          ]
        }
      ]
    },
    {
      "cell_type": "code",
      "source": [
        "error_total = np.sum(error)"
      ],
      "metadata": {
        "id": "5-_fFDdg5K0k"
      },
      "execution_count": null,
      "outputs": []
    },
    {
      "cell_type": "code",
      "source": [
        "error_total"
      ],
      "metadata": {
        "colab": {
          "base_uri": "https://localhost:8080/"
        },
        "id": "UhWIpTsP5O8k",
        "outputId": "7e6bc6ed-d409-4e78-fe9d-8be9846842c6"
      },
      "execution_count": null,
      "outputs": [
        {
          "output_type": "execute_result",
          "data": {
            "text/plain": [
              "135.88261448713052"
            ]
          },
          "metadata": {},
          "execution_count": 43
        }
      ]
    }
  ]
}